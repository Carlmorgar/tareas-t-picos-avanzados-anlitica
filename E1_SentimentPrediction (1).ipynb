{
  "cells": [
    {
      "cell_type": "markdown",
      "metadata": {
        "id": "H9dNk-ySMIOE"
      },
      "source": [
        "# Exercise 1\n",
        "\n",
        "## Analyze how travelers expressed their feelings on Twitter\n",
        "\n",
        "A sentiment analysis job about the problems of each major U.S. airline.\n",
        "Twitter data was scraped from February of 2015 and contributors were\n",
        "asked to first classify positive, negative, and neutral tweets, followed\n",
        "by categorizing negative reasons (such as \"late flight\" or \"rude service\")."
      ]
    },
    {
      "cell_type": "code",
      "source": [],
      "metadata": {
        "id": "6jp6mi0qt8KT"
      },
      "execution_count": null,
      "outputs": []
    },
    {
      "cell_type": "code",
      "execution_count": null,
      "metadata": {
        "colab": {
          "base_uri": "https://localhost:8080/",
          "height": 483
        },
        "id": "eQ6tgbFVMIOJ",
        "outputId": "31d7def5-fc5a-4563-f7d8-3302d2a9b2ee"
      },
      "outputs": [
        {
          "output_type": "execute_result",
          "data": {
            "text/plain": [
              "                   airline_sentiment  airline_sentiment_confidence  \\\n",
              "tweet_id                                                             \n",
              "570306133677760513           neutral                        1.0000   \n",
              "570301130888122368          positive                        0.3486   \n",
              "570301083672813571           neutral                        0.6837   \n",
              "570301031407624196          negative                        1.0000   \n",
              "570300817074462722          negative                        1.0000   \n",
              "\n",
              "                   negativereason  negativereason_confidence         airline  \\\n",
              "tweet_id                                                                       \n",
              "570306133677760513            NaN                        NaN  Virgin America   \n",
              "570301130888122368            NaN                     0.0000  Virgin America   \n",
              "570301083672813571            NaN                        NaN  Virgin America   \n",
              "570301031407624196     Bad Flight                     0.7033  Virgin America   \n",
              "570300817074462722     Can't Tell                     1.0000  Virgin America   \n",
              "\n",
              "                   airline_sentiment_gold        name negativereason_gold  \\\n",
              "tweet_id                                                                    \n",
              "570306133677760513                    NaN     cairdin                 NaN   \n",
              "570301130888122368                    NaN    jnardino                 NaN   \n",
              "570301083672813571                    NaN  yvonnalynn                 NaN   \n",
              "570301031407624196                    NaN    jnardino                 NaN   \n",
              "570300817074462722                    NaN    jnardino                 NaN   \n",
              "\n",
              "                    retweet_count  \\\n",
              "tweet_id                            \n",
              "570306133677760513              0   \n",
              "570301130888122368              0   \n",
              "570301083672813571              0   \n",
              "570301031407624196              0   \n",
              "570300817074462722              0   \n",
              "\n",
              "                                                                 text  \\\n",
              "tweet_id                                                                \n",
              "570306133677760513                @VirginAmerica What @dhepburn said.   \n",
              "570301130888122368  @VirginAmerica plus you've added commercials t...   \n",
              "570301083672813571  @VirginAmerica I didn't today... Must mean I n...   \n",
              "570301031407624196  @VirginAmerica it's really aggressive to blast...   \n",
              "570300817074462722  @VirginAmerica and it's a really big bad thing...   \n",
              "\n",
              "                   tweet_coord              tweet_created tweet_location  \\\n",
              "tweet_id                                                                   \n",
              "570306133677760513         NaN  2015-02-24 11:35:52 -0800            NaN   \n",
              "570301130888122368         NaN  2015-02-24 11:15:59 -0800            NaN   \n",
              "570301083672813571         NaN  2015-02-24 11:15:48 -0800      Lets Play   \n",
              "570301031407624196         NaN  2015-02-24 11:15:36 -0800            NaN   \n",
              "570300817074462722         NaN  2015-02-24 11:14:45 -0800            NaN   \n",
              "\n",
              "                                 user_timezone  \n",
              "tweet_id                                        \n",
              "570306133677760513  Eastern Time (US & Canada)  \n",
              "570301130888122368  Pacific Time (US & Canada)  \n",
              "570301083672813571  Central Time (US & Canada)  \n",
              "570301031407624196  Pacific Time (US & Canada)  \n",
              "570300817074462722  Pacific Time (US & Canada)  "
            ],
            "text/html": [
              "\n",
              "  <div id=\"df-7fe54183-1a69-4f8c-8f3a-0be756821288\" class=\"colab-df-container\">\n",
              "    <div>\n",
              "<style scoped>\n",
              "    .dataframe tbody tr th:only-of-type {\n",
              "        vertical-align: middle;\n",
              "    }\n",
              "\n",
              "    .dataframe tbody tr th {\n",
              "        vertical-align: top;\n",
              "    }\n",
              "\n",
              "    .dataframe thead th {\n",
              "        text-align: right;\n",
              "    }\n",
              "</style>\n",
              "<table border=\"1\" class=\"dataframe\">\n",
              "  <thead>\n",
              "    <tr style=\"text-align: right;\">\n",
              "      <th></th>\n",
              "      <th>airline_sentiment</th>\n",
              "      <th>airline_sentiment_confidence</th>\n",
              "      <th>negativereason</th>\n",
              "      <th>negativereason_confidence</th>\n",
              "      <th>airline</th>\n",
              "      <th>airline_sentiment_gold</th>\n",
              "      <th>name</th>\n",
              "      <th>negativereason_gold</th>\n",
              "      <th>retweet_count</th>\n",
              "      <th>text</th>\n",
              "      <th>tweet_coord</th>\n",
              "      <th>tweet_created</th>\n",
              "      <th>tweet_location</th>\n",
              "      <th>user_timezone</th>\n",
              "    </tr>\n",
              "    <tr>\n",
              "      <th>tweet_id</th>\n",
              "      <th></th>\n",
              "      <th></th>\n",
              "      <th></th>\n",
              "      <th></th>\n",
              "      <th></th>\n",
              "      <th></th>\n",
              "      <th></th>\n",
              "      <th></th>\n",
              "      <th></th>\n",
              "      <th></th>\n",
              "      <th></th>\n",
              "      <th></th>\n",
              "      <th></th>\n",
              "      <th></th>\n",
              "    </tr>\n",
              "  </thead>\n",
              "  <tbody>\n",
              "    <tr>\n",
              "      <th>570306133677760513</th>\n",
              "      <td>neutral</td>\n",
              "      <td>1.0000</td>\n",
              "      <td>NaN</td>\n",
              "      <td>NaN</td>\n",
              "      <td>Virgin America</td>\n",
              "      <td>NaN</td>\n",
              "      <td>cairdin</td>\n",
              "      <td>NaN</td>\n",
              "      <td>0</td>\n",
              "      <td>@VirginAmerica What @dhepburn said.</td>\n",
              "      <td>NaN</td>\n",
              "      <td>2015-02-24 11:35:52 -0800</td>\n",
              "      <td>NaN</td>\n",
              "      <td>Eastern Time (US &amp; Canada)</td>\n",
              "    </tr>\n",
              "    <tr>\n",
              "      <th>570301130888122368</th>\n",
              "      <td>positive</td>\n",
              "      <td>0.3486</td>\n",
              "      <td>NaN</td>\n",
              "      <td>0.0000</td>\n",
              "      <td>Virgin America</td>\n",
              "      <td>NaN</td>\n",
              "      <td>jnardino</td>\n",
              "      <td>NaN</td>\n",
              "      <td>0</td>\n",
              "      <td>@VirginAmerica plus you've added commercials t...</td>\n",
              "      <td>NaN</td>\n",
              "      <td>2015-02-24 11:15:59 -0800</td>\n",
              "      <td>NaN</td>\n",
              "      <td>Pacific Time (US &amp; Canada)</td>\n",
              "    </tr>\n",
              "    <tr>\n",
              "      <th>570301083672813571</th>\n",
              "      <td>neutral</td>\n",
              "      <td>0.6837</td>\n",
              "      <td>NaN</td>\n",
              "      <td>NaN</td>\n",
              "      <td>Virgin America</td>\n",
              "      <td>NaN</td>\n",
              "      <td>yvonnalynn</td>\n",
              "      <td>NaN</td>\n",
              "      <td>0</td>\n",
              "      <td>@VirginAmerica I didn't today... Must mean I n...</td>\n",
              "      <td>NaN</td>\n",
              "      <td>2015-02-24 11:15:48 -0800</td>\n",
              "      <td>Lets Play</td>\n",
              "      <td>Central Time (US &amp; Canada)</td>\n",
              "    </tr>\n",
              "    <tr>\n",
              "      <th>570301031407624196</th>\n",
              "      <td>negative</td>\n",
              "      <td>1.0000</td>\n",
              "      <td>Bad Flight</td>\n",
              "      <td>0.7033</td>\n",
              "      <td>Virgin America</td>\n",
              "      <td>NaN</td>\n",
              "      <td>jnardino</td>\n",
              "      <td>NaN</td>\n",
              "      <td>0</td>\n",
              "      <td>@VirginAmerica it's really aggressive to blast...</td>\n",
              "      <td>NaN</td>\n",
              "      <td>2015-02-24 11:15:36 -0800</td>\n",
              "      <td>NaN</td>\n",
              "      <td>Pacific Time (US &amp; Canada)</td>\n",
              "    </tr>\n",
              "    <tr>\n",
              "      <th>570300817074462722</th>\n",
              "      <td>negative</td>\n",
              "      <td>1.0000</td>\n",
              "      <td>Can't Tell</td>\n",
              "      <td>1.0000</td>\n",
              "      <td>Virgin America</td>\n",
              "      <td>NaN</td>\n",
              "      <td>jnardino</td>\n",
              "      <td>NaN</td>\n",
              "      <td>0</td>\n",
              "      <td>@VirginAmerica and it's a really big bad thing...</td>\n",
              "      <td>NaN</td>\n",
              "      <td>2015-02-24 11:14:45 -0800</td>\n",
              "      <td>NaN</td>\n",
              "      <td>Pacific Time (US &amp; Canada)</td>\n",
              "    </tr>\n",
              "  </tbody>\n",
              "</table>\n",
              "</div>\n",
              "    <div class=\"colab-df-buttons\">\n",
              "\n",
              "  <div class=\"colab-df-container\">\n",
              "    <button class=\"colab-df-convert\" onclick=\"convertToInteractive('df-7fe54183-1a69-4f8c-8f3a-0be756821288')\"\n",
              "            title=\"Convert this dataframe to an interactive table.\"\n",
              "            style=\"display:none;\">\n",
              "\n",
              "  <svg xmlns=\"http://www.w3.org/2000/svg\" height=\"24px\" viewBox=\"0 -960 960 960\">\n",
              "    <path d=\"M120-120v-720h720v720H120Zm60-500h600v-160H180v160Zm220 220h160v-160H400v160Zm0 220h160v-160H400v160ZM180-400h160v-160H180v160Zm440 0h160v-160H620v160ZM180-180h160v-160H180v160Zm440 0h160v-160H620v160Z\"/>\n",
              "  </svg>\n",
              "    </button>\n",
              "\n",
              "  <style>\n",
              "    .colab-df-container {\n",
              "      display:flex;\n",
              "      gap: 12px;\n",
              "    }\n",
              "\n",
              "    .colab-df-convert {\n",
              "      background-color: #E8F0FE;\n",
              "      border: none;\n",
              "      border-radius: 50%;\n",
              "      cursor: pointer;\n",
              "      display: none;\n",
              "      fill: #1967D2;\n",
              "      height: 32px;\n",
              "      padding: 0 0 0 0;\n",
              "      width: 32px;\n",
              "    }\n",
              "\n",
              "    .colab-df-convert:hover {\n",
              "      background-color: #E2EBFA;\n",
              "      box-shadow: 0px 1px 2px rgba(60, 64, 67, 0.3), 0px 1px 3px 1px rgba(60, 64, 67, 0.15);\n",
              "      fill: #174EA6;\n",
              "    }\n",
              "\n",
              "    .colab-df-buttons div {\n",
              "      margin-bottom: 4px;\n",
              "    }\n",
              "\n",
              "    [theme=dark] .colab-df-convert {\n",
              "      background-color: #3B4455;\n",
              "      fill: #D2E3FC;\n",
              "    }\n",
              "\n",
              "    [theme=dark] .colab-df-convert:hover {\n",
              "      background-color: #434B5C;\n",
              "      box-shadow: 0px 1px 3px 1px rgba(0, 0, 0, 0.15);\n",
              "      filter: drop-shadow(0px 1px 2px rgba(0, 0, 0, 0.3));\n",
              "      fill: #FFFFFF;\n",
              "    }\n",
              "  </style>\n",
              "\n",
              "    <script>\n",
              "      const buttonEl =\n",
              "        document.querySelector('#df-7fe54183-1a69-4f8c-8f3a-0be756821288 button.colab-df-convert');\n",
              "      buttonEl.style.display =\n",
              "        google.colab.kernel.accessAllowed ? 'block' : 'none';\n",
              "\n",
              "      async function convertToInteractive(key) {\n",
              "        const element = document.querySelector('#df-7fe54183-1a69-4f8c-8f3a-0be756821288');\n",
              "        const dataTable =\n",
              "          await google.colab.kernel.invokeFunction('convertToInteractive',\n",
              "                                                    [key], {});\n",
              "        if (!dataTable) return;\n",
              "\n",
              "        const docLinkHtml = 'Like what you see? Visit the ' +\n",
              "          '<a target=\"_blank\" href=https://colab.research.google.com/notebooks/data_table.ipynb>data table notebook</a>'\n",
              "          + ' to learn more about interactive tables.';\n",
              "        element.innerHTML = '';\n",
              "        dataTable['output_type'] = 'display_data';\n",
              "        await google.colab.output.renderOutput(dataTable, element);\n",
              "        const docLink = document.createElement('div');\n",
              "        docLink.innerHTML = docLinkHtml;\n",
              "        element.appendChild(docLink);\n",
              "      }\n",
              "    </script>\n",
              "  </div>\n",
              "\n",
              "\n",
              "<div id=\"df-c3fa3f60-7349-41be-ae85-ba8b43711de0\">\n",
              "  <button class=\"colab-df-quickchart\" onclick=\"quickchart('df-c3fa3f60-7349-41be-ae85-ba8b43711de0')\"\n",
              "            title=\"Suggest charts\"\n",
              "            style=\"display:none;\">\n",
              "\n",
              "<svg xmlns=\"http://www.w3.org/2000/svg\" height=\"24px\"viewBox=\"0 0 24 24\"\n",
              "     width=\"24px\">\n",
              "    <g>\n",
              "        <path d=\"M19 3H5c-1.1 0-2 .9-2 2v14c0 1.1.9 2 2 2h14c1.1 0 2-.9 2-2V5c0-1.1-.9-2-2-2zM9 17H7v-7h2v7zm4 0h-2V7h2v10zm4 0h-2v-4h2v4z\"/>\n",
              "    </g>\n",
              "</svg>\n",
              "  </button>\n",
              "\n",
              "<style>\n",
              "  .colab-df-quickchart {\n",
              "      --bg-color: #E8F0FE;\n",
              "      --fill-color: #1967D2;\n",
              "      --hover-bg-color: #E2EBFA;\n",
              "      --hover-fill-color: #174EA6;\n",
              "      --disabled-fill-color: #AAA;\n",
              "      --disabled-bg-color: #DDD;\n",
              "  }\n",
              "\n",
              "  [theme=dark] .colab-df-quickchart {\n",
              "      --bg-color: #3B4455;\n",
              "      --fill-color: #D2E3FC;\n",
              "      --hover-bg-color: #434B5C;\n",
              "      --hover-fill-color: #FFFFFF;\n",
              "      --disabled-bg-color: #3B4455;\n",
              "      --disabled-fill-color: #666;\n",
              "  }\n",
              "\n",
              "  .colab-df-quickchart {\n",
              "    background-color: var(--bg-color);\n",
              "    border: none;\n",
              "    border-radius: 50%;\n",
              "    cursor: pointer;\n",
              "    display: none;\n",
              "    fill: var(--fill-color);\n",
              "    height: 32px;\n",
              "    padding: 0;\n",
              "    width: 32px;\n",
              "  }\n",
              "\n",
              "  .colab-df-quickchart:hover {\n",
              "    background-color: var(--hover-bg-color);\n",
              "    box-shadow: 0 1px 2px rgba(60, 64, 67, 0.3), 0 1px 3px 1px rgba(60, 64, 67, 0.15);\n",
              "    fill: var(--button-hover-fill-color);\n",
              "  }\n",
              "\n",
              "  .colab-df-quickchart-complete:disabled,\n",
              "  .colab-df-quickchart-complete:disabled:hover {\n",
              "    background-color: var(--disabled-bg-color);\n",
              "    fill: var(--disabled-fill-color);\n",
              "    box-shadow: none;\n",
              "  }\n",
              "\n",
              "  .colab-df-spinner {\n",
              "    border: 2px solid var(--fill-color);\n",
              "    border-color: transparent;\n",
              "    border-bottom-color: var(--fill-color);\n",
              "    animation:\n",
              "      spin 1s steps(1) infinite;\n",
              "  }\n",
              "\n",
              "  @keyframes spin {\n",
              "    0% {\n",
              "      border-color: transparent;\n",
              "      border-bottom-color: var(--fill-color);\n",
              "      border-left-color: var(--fill-color);\n",
              "    }\n",
              "    20% {\n",
              "      border-color: transparent;\n",
              "      border-left-color: var(--fill-color);\n",
              "      border-top-color: var(--fill-color);\n",
              "    }\n",
              "    30% {\n",
              "      border-color: transparent;\n",
              "      border-left-color: var(--fill-color);\n",
              "      border-top-color: var(--fill-color);\n",
              "      border-right-color: var(--fill-color);\n",
              "    }\n",
              "    40% {\n",
              "      border-color: transparent;\n",
              "      border-right-color: var(--fill-color);\n",
              "      border-top-color: var(--fill-color);\n",
              "    }\n",
              "    60% {\n",
              "      border-color: transparent;\n",
              "      border-right-color: var(--fill-color);\n",
              "    }\n",
              "    80% {\n",
              "      border-color: transparent;\n",
              "      border-right-color: var(--fill-color);\n",
              "      border-bottom-color: var(--fill-color);\n",
              "    }\n",
              "    90% {\n",
              "      border-color: transparent;\n",
              "      border-bottom-color: var(--fill-color);\n",
              "    }\n",
              "  }\n",
              "</style>\n",
              "\n",
              "  <script>\n",
              "    async function quickchart(key) {\n",
              "      const quickchartButtonEl =\n",
              "        document.querySelector('#' + key + ' button');\n",
              "      quickchartButtonEl.disabled = true;  // To prevent multiple clicks.\n",
              "      quickchartButtonEl.classList.add('colab-df-spinner');\n",
              "      try {\n",
              "        const charts = await google.colab.kernel.invokeFunction(\n",
              "            'suggestCharts', [key], {});\n",
              "      } catch (error) {\n",
              "        console.error('Error during call to suggestCharts:', error);\n",
              "      }\n",
              "      quickchartButtonEl.classList.remove('colab-df-spinner');\n",
              "      quickchartButtonEl.classList.add('colab-df-quickchart-complete');\n",
              "    }\n",
              "    (() => {\n",
              "      let quickchartButtonEl =\n",
              "        document.querySelector('#df-c3fa3f60-7349-41be-ae85-ba8b43711de0 button');\n",
              "      quickchartButtonEl.style.display =\n",
              "        google.colab.kernel.accessAllowed ? 'block' : 'none';\n",
              "    })();\n",
              "  </script>\n",
              "</div>\n",
              "\n",
              "    </div>\n",
              "  </div>\n"
            ],
            "application/vnd.google.colaboratory.intrinsic+json": {
              "type": "dataframe",
              "variable_name": "tweets",
              "repr_error": "'str' object has no attribute 'empty'"
            }
          },
          "metadata": {},
          "execution_count": 1
        }
      ],
      "source": [
        "import pandas as pd\n",
        "import numpy as np\n",
        "\n",
        "%matplotlib inline\n",
        "import matplotlib.pyplot as plt\n",
        "\n",
        "# Se lee un archivo de csv de una ruta de github\n",
        "tweets = pd.read_csv('https://github.com/sergiomora03/AdvancedTopicsAnalytics/raw/main/datasets/Tweets.zip', index_col=0)\n",
        "\n",
        "tweets.head()"
      ]
    },
    {
      "cell_type": "code",
      "execution_count": null,
      "metadata": {
        "colab": {
          "base_uri": "https://localhost:8080/"
        },
        "id": "2YdcURXjMIOL",
        "outputId": "eddae692-8597-434d-83fe-51876c129f6d"
      },
      "outputs": [
        {
          "output_type": "execute_result",
          "data": {
            "text/plain": [
              "(14640, 14)"
            ]
          },
          "metadata": {},
          "execution_count": 2
        }
      ],
      "source": [
        "tweets.shape"
      ]
    },
    {
      "cell_type": "markdown",
      "metadata": {
        "id": "O7zZWcOAMIOL"
      },
      "source": [
        "### Proportion of tweets with each sentiment"
      ]
    },
    {
      "cell_type": "code",
      "execution_count": null,
      "metadata": {
        "colab": {
          "base_uri": "https://localhost:8080/"
        },
        "id": "UTaCANCfMIOM",
        "outputId": "e940e325-2af6-4122-d44a-5d7d0c957bb1"
      },
      "outputs": [
        {
          "output_type": "execute_result",
          "data": {
            "text/plain": [
              "negative    9178\n",
              "neutral     3099\n",
              "positive    2363\n",
              "Name: airline_sentiment, dtype: int64"
            ]
          },
          "metadata": {},
          "execution_count": 3
        }
      ],
      "source": [
        "tweets['airline_sentiment'].value_counts()"
      ]
    },
    {
      "cell_type": "markdown",
      "source": [
        "Se observa que los tweets de las aerolineas en su mayoria se representan por la clasificación negativa por parte de los usuarios"
      ],
      "metadata": {
        "id": "bM7SliOwOMT-"
      }
    },
    {
      "cell_type": "markdown",
      "metadata": {
        "id": "OfgGVNvEMIOM"
      },
      "source": [
        "### Proportion of tweets per airline\n"
      ]
    },
    {
      "cell_type": "code",
      "execution_count": null,
      "metadata": {
        "colab": {
          "base_uri": "https://localhost:8080/"
        },
        "id": "WcT95_IxMION",
        "outputId": "de267af9-9a1a-4d37-9942-0a626e3137f9"
      },
      "outputs": [
        {
          "output_type": "execute_result",
          "data": {
            "text/plain": [
              "United            3822\n",
              "US Airways        2913\n",
              "American          2759\n",
              "Southwest         2420\n",
              "Delta             2222\n",
              "Virgin America     504\n",
              "Name: airline, dtype: int64"
            ]
          },
          "metadata": {},
          "execution_count": 4
        }
      ],
      "source": [
        "tweets['airline'].value_counts()"
      ]
    },
    {
      "cell_type": "markdown",
      "source": [
        "Se observa que la aerolinea United es la que mas se menciona en los tweets, lo contrario pasa con la aerolina Virgin America"
      ],
      "metadata": {
        "id": "pBgnHJn0OaYv"
      }
    },
    {
      "cell_type": "code",
      "execution_count": null,
      "metadata": {
        "colab": {
          "base_uri": "https://localhost:8080/",
          "height": 544
        },
        "id": "HzceHJRDMION",
        "outputId": "1d49071c-7f58-4407-bb61-6b017159430c"
      },
      "outputs": [
        {
          "output_type": "execute_result",
          "data": {
            "text/plain": [
              "<Axes: >"
            ]
          },
          "metadata": {},
          "execution_count": 5
        },
        {
          "output_type": "display_data",
          "data": {
            "text/plain": [
              "<Figure size 800x600 with 1 Axes>"
            ],
            "image/png": "[encoded data removed]"
          },
          "metadata": {}
        }
      ],
      "source": [
        "pd.Series(tweets[\"airline\"]).value_counts().plot(kind = \"bar\",figsize=(8,6),rot = 0)"
      ]
    },
    {
      "cell_type": "code",
      "execution_count": null,
      "metadata": {
        "colab": {
          "base_uri": "https://localhost:8080/",
          "height": 582
        },
        "id": "54bivdljMIOO",
        "outputId": "366e9e18-cf60-4904-98f9-18996aacb7ce"
      },
      "outputs": [
        {
          "output_type": "execute_result",
          "data": {
            "text/plain": [
              "<Axes: title={'center': 'Sentiment by airline'}, xlabel='airline'>"
            ]
          },
          "metadata": {},
          "execution_count": 6
        },
        {
          "output_type": "display_data",
          "data": {
            "text/plain": [
              "<Figure size 1000x600 with 1 Axes>"
            ],
            "image/png": "[encoded data removed]"
          },
          "metadata": {}
        }
      ],
      "source": [
        "pd.crosstab(index = tweets[\"airline\"],columns = tweets[\"airline_sentiment\"]).plot(kind='bar',figsize=(10, 6),alpha=0.5,rot=0,stacked=True,title=\"Sentiment by airline\")"
      ]
    },
    {
      "cell_type": "markdown",
      "source": [
        "De la gráfica anterior se evidencia que Southwest es la aerolinea con mayores tweets positivos. Sin embargo, la aerolinea Virgin America es la que tiene una mayor proporción de tweets positivos si se compara contra ella misma (muy balanceado con las otras categorias).\n",
        "Por otra parte, United es la aerolina con mayores tweets negativos"
      ],
      "metadata": {
        "id": "7dQ5ksEwOr6r"
      }
    },
    {
      "cell_type": "markdown",
      "metadata": {
        "id": "Mmmr5X4pMIOP"
      },
      "source": [
        "# Exercise 1.1\n",
        "\n",
        "Predict the sentiment using CountVectorizer\n",
        "\n",
        "use Random Forest classifier"
      ]
    },
    {
      "cell_type": "code",
      "execution_count": null,
      "metadata": {
        "id": "P8MdENPoMIOP"
      },
      "outputs": [],
      "source": [
        "#Se importan librerias para entrenar modelos, vectorizar texto, construir bosquea aleatorios y estemizar\n",
        "from sklearn.model_selection import train_test_split, cross_val_score\n",
        "from sklearn.feature_extraction.text import CountVectorizer, TfidfVectorizer\n",
        "from sklearn.ensemble import RandomForestClassifier\n",
        "from nltk.stem.snowball import SnowballStemmer\n",
        "from nltk.stem import WordNetLemmatizer"
      ]
    },
    {
      "cell_type": "code",
      "execution_count": null,
      "metadata": {
        "id": "555S1H6_MIOP"
      },
      "outputs": [],
      "source": [
        "#Los textos de los tweets son la variable explicativa, mientras que la clasificación del sentimiento hacia la aerolinea es la variable dependiente\n",
        "X = tweets['text']\n",
        "y = tweets['airline_sentiment'].map({'negative':-1,'neutral':0,'positive':1})"
      ]
    },
    {
      "cell_type": "code",
      "source": [
        "#Vectorización\n",
        "vect = CountVectorizer()\n",
        "# Se convierte el texto en una matriz de palabras y representa la frecuencia de cada palabra en cada documento\n",
        "X_dtm = vect.fit_transform(X)"
      ],
      "metadata": {
        "id": "3OMnXnUNrwmt"
      },
      "execution_count": null,
      "outputs": []
    },
    {
      "cell_type": "code",
      "source": [
        "X_dtm"
      ],
      "metadata": {
        "colab": {
          "base_uri": "https://localhost:8080/"
        },
        "id": "uWWOHVidtGPl",
        "outputId": "db61dc44-bc88-4a50-8175-268114a46d87"
      },
      "execution_count": null,
      "outputs": [
        {
          "output_type": "execute_result",
          "data": {
            "text/plain": [
              "<14640x15051 sparse matrix of type '<class 'numpy.int64'>'\n",
              "\twith 234281 stored elements in Compressed Sparse Row format>"
            ]
          },
          "metadata": {},
          "execution_count": 10
        }
      ]
    },
    {
      "cell_type": "code",
      "source": [
        "X_dtm.todense()"
      ],
      "metadata": {
        "colab": {
          "base_uri": "https://localhost:8080/"
        },
        "id": "3KZGx8mCtUVD",
        "outputId": "86c46fe4-9bda-420e-8ffe-e6c136e49eeb"
      },
      "execution_count": null,
      "outputs": [
        {
          "output_type": "execute_result",
          "data": {
            "text/plain": [
              "matrix([[0, 0, 0, ..., 0, 0, 0],\n",
              "        [0, 0, 0, ..., 0, 0, 0],\n",
              "        [0, 0, 0, ..., 0, 0, 0],\n",
              "        ...,\n",
              "        [0, 0, 0, ..., 0, 0, 0],\n",
              "        [0, 0, 0, ..., 0, 0, 0],\n",
              "        [0, 0, 0, ..., 0, 0, 0]])"
            ]
          },
          "metadata": {},
          "execution_count": 11
        }
      ]
    },
    {
      "cell_type": "code",
      "source": [
        "temp=X_dtm.todense()\n",
        "temp"
      ],
      "metadata": {
        "colab": {
          "base_uri": "https://localhost:8080/"
        },
        "id": "xLu7GozAtgUK",
        "outputId": "801853d3-ab42-44c8-b96a-02a9a85f1c61"
      },
      "execution_count": null,
      "outputs": [
        {
          "output_type": "execute_result",
          "data": {
            "text/plain": [
              "matrix([[0, 0, 0, ..., 0, 0, 0],\n",
              "        [0, 0, 0, ..., 0, 0, 0],\n",
              "        [0, 0, 0, ..., 0, 0, 0],\n",
              "        ...,\n",
              "        [0, 0, 0, ..., 0, 0, 0],\n",
              "        [0, 0, 0, ..., 0, 0, 0],\n",
              "        [0, 0, 0, ..., 0, 0, 0]])"
            ]
          },
          "metadata": {},
          "execution_count": 12
        }
      ]
    },
    {
      "cell_type": "code",
      "source": [
        "vect.vocabulary_"
      ],
      "metadata": {
        "colab": {
          "base_uri": "https://localhost:8080/"
        },
        "id": "4VjNEHKttXxz",
        "outputId": "e81a9d88-6cbd-4471-fe1e-1c58fedb7751"
      },
      "execution_count": null,
      "outputs": [
        {
          "output_type": "execute_result",
          "data": {
            "text/plain": [
              "{'virginamerica': 14273,\n",
              " 'what': 14551,\n",
              " 'dhepburn': 4804,\n",
              " 'said': 11646,\n",
              " 'plus': 10438,\n",
              " 'you': 14944,\n",
              " 've': 14193,\n",
              " 'added': 1965,\n",
              " 'commercials': 4030,\n",
              " 'to': 13326,\n",
              " 'the': 13120,\n",
              " 'experience': 5665,\n",
              " 'tacky': 12925,\n",
              " 'didn': 4821,\n",
              " 'today': 13330,\n",
              " 'must': 9234,\n",
              " 'mean': 8837,\n",
              " 'need': 9375,\n",
              " 'take': 12941,\n",
              " 'another': 2331,\n",
              " 'trip': 13509,\n",
              " 'it': 7685,\n",
              " 'really': 11020,\n",
              " 'aggressive': 2054,\n",
              " 'blast': 3070,\n",
              " 'obnoxious': 9726,\n",
              " 'entertainment': 5455,\n",
              " 'in': 7381,\n",
              " 'your': 14953,\n",
              " 'guests': 6733,\n",
              " 'faces': 5740,\n",
              " 'amp': 2263,\n",
              " 'they': 13167,\n",
              " 'have': 6868,\n",
              " 'little': 8392,\n",
              " 'recourse': 11078,\n",
              " 'and': 2281,\n",
              " 'big': 3007,\n",
              " 'bad': 2746,\n",
              " 'thing': 13176,\n",
              " 'about': 1862,\n",
              " 'seriously': 11914,\n",
              " 'would': 14778,\n",
              " 'pay': 10175,\n",
              " '30': 761,\n",
              " 'flight': 6004,\n",
              " 'for': 6157,\n",
              " 'seats': 11832,\n",
              " 'that': 13115,\n",
              " 'this': 13188,\n",
              " 'playing': 10403,\n",
              " 'only': 9836,\n",
              " 'flying': 6101,\n",
              " 'va': 14145,\n",
              " 'yes': 14922,\n",
              " 'nearly': 9371,\n",
              " 'every': 5572,\n",
              " 'time': 13270,\n",
              " 'fly': 6086,\n",
              " 'vx': 14345,\n",
              " 'ear': 5238,\n",
              " 'worm': 14751,\n",
              " 'won': 14715,\n",
              " 'go': 6557,\n",
              " 'away': 2667,\n",
              " 'missed': 9043,\n",
              " 'prime': 10643,\n",
              " 'opportunity': 9869,\n",
              " 'men': 8902,\n",
              " 'without': 14684,\n",
              " 'hats': 6865,\n",
              " 'parody': 10104,\n",
              " 'there': 13150,\n",
              " 'https': 7188,\n",
              " 'co': 3944,\n",
              " 'mwpg7grezp': 9243,\n",
              " 'well': 14513,\n",
              " 'but': 3387,\n",
              " 'now': 9649,\n",
              " 'do': 5020,\n",
              " 'was': 14430,\n",
              " 'amazing': 2224,\n",
              " 'arrived': 2482,\n",
              " 'an': 2271,\n",
              " 'hour': 7154,\n",
              " 'early': 5241,\n",
              " 're': 10990,\n",
              " 'too': 13366,\n",
              " 'good': 6586,\n",
              " 'me': 8831,\n",
              " 'did': 4820,\n",
              " 'know': 8076,\n",
              " 'suicide': 12740,\n",
              " 'is': 7658,\n",
              " 'second': 11837,\n",
              " 'leading': 8227,\n",
              " 'cause': 3598,\n",
              " 'of': 9755,\n",
              " 'death': 4608,\n",
              " 'among': 2259,\n",
              " 'teens': 13024,\n",
              " '10': 58,\n",
              " '24': 597,\n",
              " 'lt': 8567,\n",
              " 'pretty': 10619,\n",
              " 'graphics': 6649,\n",
              " 'so': 12287,\n",
              " 'much': 9209,\n",
              " 'better': 2978,\n",
              " 'than': 13094,\n",
              " 'minimal': 9003,\n",
              " 'iconography': 7267,\n",
              " 'such': 12720,\n",
              " 'great': 6656,\n",
              " 'deal': 4600,\n",
              " 'already': 2192,\n",
              " 'thinking': 13182,\n",
              " 'my': 9248,\n",
              " '2nd': 732,\n",
              " 'australia': 2620,\n",
              " 'haven': 6869,\n",
              " 'even': 5558,\n",
              " 'gone': 6581,\n",
              " 'on': 9815,\n",
              " '1st': 468,\n",
              " 'yet': 14927,\n",
              " 'virginmedia': 14276,\n",
              " 'fabulous': 5734,\n",
              " 'seductive': 11852,\n",
              " 'skies': 12155,\n",
              " 'again': 2040,\n",
              " 'all': 2164,\n",
              " 'stress': 12654,\n",
              " 'from': 6281,\n",
              " 'travel': 13460,\n",
              " 'http': 7187,\n",
              " 'ahlxhhkiyn': 2072,\n",
              " 'thanks': 13103,\n",
              " 'sfo': 11950,\n",
              " 'pdx': 10193,\n",
              " 'schedule': 11762,\n",
              " 'still': 12586,\n",
              " 'mia': 8950,\n",
              " 'excited': 5614,\n",
              " 'first': 5950,\n",
              " 'cross': 4397,\n",
              " 'country': 4307,\n",
              " 'lax': 8207,\n",
              " 'mco': 8820,\n",
              " 'heard': 6904,\n",
              " 'nothing': 9623,\n",
              " 'things': 13177,\n",
              " 'virgin': 14272,\n",
              " 'america': 2235,\n",
              " '29daystogo': 689,\n",
              " 'flew': 5992,\n",
              " 'nyc': 9697,\n",
              " 'last': 8173,\n",
              " 'week': 14493,\n",
              " 'couldn': 4296,\n",
              " 'fully': 6335,\n",
              " 'sit': 12125,\n",
              " 'seat': 11825,\n",
              " 'due': 5180,\n",
              " 'two': 13616,\n",
              " 'large': 8163,\n",
              " 'gentleman': 6452,\n",
              " 'either': 5316,\n",
              " 'side': 12076,\n",
              " 'help': 6937,\n",
              " 'be': 2871,\n",
              " 'amazingly': 2226,\n",
              " 'awesome': 2672,\n",
              " 'bos': 3169,\n",
              " 'fll': 6059,\n",
              " 'please': 10410,\n",
              " 'want': 14413,\n",
              " 'with': 14681,\n",
              " 'why': 14609,\n",
              " 'are': 2450,\n",
              " 'fares': 5792,\n",
              " 'may': 8795,\n",
              " 'over': 9971,\n",
              " 'three': 13214,\n",
              " 'times': 13275,\n",
              " 'more': 9141,\n",
              " 'other': 9925,\n",
              " 'carriers': 3557,\n",
              " 'when': 14570,\n",
              " 'available': 2638,\n",
              " 'select': 11872,\n",
              " 'love': 8532,\n",
              " 'graphic': 6648,\n",
              " 'ut5grrwaaa': 14123,\n",
              " 'hipster': 7017,\n",
              " 'innovation': 7508,\n",
              " 'feel': 5849,\n",
              " 'brand': 3215,\n",
              " 'will': 14634,\n",
              " 'making': 8682,\n",
              " 'gt': 6717,\n",
              " 'las': 8168,\n",
              " 'non': 9555,\n",
              " 'stop': 12614,\n",
              " 'permanently': 10245,\n",
              " 'anytime': 2365,\n",
              " 'soon': 12336,\n",
              " 'guys': 6750,\n",
              " 'messed': 8926,\n",
              " 'up': 14008,\n",
              " 'seating': 11830,\n",
              " 'reserved': 11314,\n",
              " 'friends': 6274,\n",
              " 'gave': 6425,\n",
              " 'free': 6240,\n",
              " 'internet': 7590,\n",
              " 'status': 12545,\n",
              " 'match': 8779,\n",
              " 'program': 10706,\n",
              " 'applied': 2406,\n",
              " 'been': 2906,\n",
              " 'weeks': 14499,\n",
              " 'called': 3471,\n",
              " 'emailed': 5356,\n",
              " 'no': 9506,\n",
              " 'response': 11335,\n",
              " 'happened': 6821,\n",
              " 'ur': 14042,\n",
              " 'vegan': 14197,\n",
              " 'food': 6148,\n",
              " 'options': 9878,\n",
              " 'at': 2551,\n",
              " 'least': 8240,\n",
              " 'say': 11726,\n",
              " 'site': 12126,\n",
              " 'able': 1858,\n",
              " 'eat': 5262,\n",
              " 'anything': 2364,\n",
              " 'next': 9447,\n",
              " 'hrs': 7179,\n",
              " 'fail': 5745,\n",
              " 'miss': 9042,\n",
              " 'don': 5046,\n",
              " 'worry': 14756,\n",
              " 'we': 14467,\n",
              " 'll': 8414,\n",
              " 'together': 13335,\n",
              " 'very': 14228,\n",
              " 'can': 3489,\n",
              " 'get': 6468,\n",
              " 'any': 2355,\n",
              " 'cold': 3971,\n",
              " 'air': 2082,\n",
              " 'vents': 14212,\n",
              " 'vx358': 14346,\n",
              " 'noair': 9512,\n",
              " 'worstflightever': 14769,\n",
              " 'roasted': 11490,\n",
              " 'sfotobos': 11952,\n",
              " 'ewr': 5592,\n",
              " 'middle': 8960,\n",
              " 'red': 11089,\n",
              " 'eye': 5706,\n",
              " 'noob': 9570,\n",
              " 'maneuver': 8709,\n",
              " 'sendambien': 11890,\n",
              " 'andchexmix': 2282,\n",
              " 'hi': 6985,\n",
              " 'just': 7929,\n",
              " 'bked': 3048,\n",
              " 'cool': 4254,\n",
              " 'birthday': 3031,\n",
              " 'add': 1963,\n",
              " 'elevate': 5331,\n",
              " 'entered': 5448,\n",
              " 'name': 9308,\n",
              " 'during': 5202,\n",
              " 'booking': 3147,\n",
              " 'problems': 10673,\n",
              " 'hours': 7158,\n",
              " 'operation': 9861,\n",
              " 'club': 3915,\n",
              " 'posted': 10512,\n",
              " 'online': 9835,\n",
              " 'current': 4449,\n",
              " 'left': 8254,\n",
              " 'expensive': 5663,\n",
              " 'headphones': 6898,\n",
              " '89': 1610,\n",
              " 'iad': 7248,\n",
              " '2a': 690,\n",
              " 'one': 9821,\n",
              " 'answering': 2338,\n",
              " 'number': 9672,\n",
              " 'awaiting': 2662,\n",
              " 'return': 11381,\n",
              " 'phone': 10300,\n",
              " 'call': 3468,\n",
              " 'prefer': 10576,\n",
              " 'use': 14104,\n",
              " 'self': 11878,\n",
              " 'service': 11921,\n",
              " 'option': 9877,\n",
              " 'news': 9443,\n",
              " 'could': 4295,\n",
              " 'start': 12524,\n",
              " 'flights': 6047,\n",
              " 'hawaii': 6874,\n",
              " 'by': 3405,\n",
              " 'end': 5408,\n",
              " 'year': 14910,\n",
              " 'r8p2zy3fe4': 10922,\n",
              " 'via': 14242,\n",
              " 'pacificbiznews': 10042,\n",
              " 'nice': 9464,\n",
              " 'rt': 11564,\n",
              " 'vibe': 14244,\n",
              " 'moodlight': 9134,\n",
              " 'takeoff': 12945,\n",
              " 'touchdown': 13396,\n",
              " 'moodlitmonday': 9136,\n",
              " 'sciencebehindtheexperience': 11774,\n",
              " 'y7o0unxtqp': 14891,\n",
              " 'moodlighting': 9135,\n",
              " 'way': 14455,\n",
              " 'best': 2961,\n",
              " 'ever': 5569,\n",
              " 'calming': 3478,\n",
              " 'freddieawards': 6239,\n",
              " 'done': 5050,\n",
              " 'airline': 2097,\n",
              " 'around': 2473,\n",
              " 'hands': 6805,\n",
              " 'down': 5089,\n",
              " 'book': 3144,\n",
              " 'chat': 3716,\n",
              " 'support': 12781,\n",
              " 'not': 9604,\n",
              " 'working': 14743,\n",
              " 'vhp2gtdwpk': 14241,\n",
              " 'view': 14254,\n",
              " 'downtown': 5100,\n",
              " 'los': 8502,\n",
              " 'angeles': 2294,\n",
              " 'hollywood': 7066,\n",
              " 'sign': 12082,\n",
              " 'beyond': 2987,\n",
              " 'rain': 10940,\n",
              " 'mountains': 9161,\n",
              " 'dw5nf0ibtr': 5209,\n",
              " 'hey': 6972,\n",
              " 'flyer': 6095,\n",
              " 'having': 6872,\n",
              " 'hard': 6840,\n",
              " 'getting': 6485,\n",
              " 'account': 1909,\n",
              " 'plz': 10439,\n",
              " 'win': 14644,\n",
              " 'bid': 3006,\n",
              " 'upgrade': 14019,\n",
              " '27': 652,\n",
              " 'sea': 11814,\n",
              " 'unused': 14001,\n",
              " 'ticket': 13244,\n",
              " 'moved': 9166,\n",
              " 'new': 9429,\n",
              " 'city': 3836,\n",
              " 'where': 14573,\n",
              " 'how': 7164,\n",
              " 'before': 2911,\n",
              " 'expires': 5673,\n",
              " 'travelhelp': 13466,\n",
              " 'leaving': 8247,\n",
              " 'dallas': 4530,\n",
              " 'seattle': 11833,\n",
              " 'feb': 5834,\n",
              " 'elevategold': 5332,\n",
              " 'reason': 11026,\n",
              " 'rock': 11511,\n",
              " 'dream': 5128,\n",
              " 'oa2drfaoq2': 9712,\n",
              " 'lwwdac2khx': 8615,\n",
              " 'wow': 14786,\n",
              " 'blew': 3081,\n",
              " 'mind': 8997,\n",
              " 'ladygaga': 8137,\n",
              " 'carrieunderwood': 3558,\n",
              " 'after': 2034,\n",
              " 'night': 9476,\n",
              " 'tribute': 13501,\n",
              " 'soundofmusic': 12362,\n",
              " 'oscars2015': 9919,\n",
              " 'think': 13180,\n",
              " 'agree': 2060,\n",
              " 'were': 14524,\n",
              " 'entertaining': 5454,\n",
              " '769': 1508,\n",
              " 'supposed': 12786,\n",
              " 'off': 9758,\n",
              " 'minutes': 9014,\n",
              " 'ago': 2058,\n",
              " 'website': 14486,\n",
              " 'shows': 12055,\n",
              " 'julie': 7920,\n",
              " 'andrews': 2288,\n",
              " 'though': 13201,\n",
              " 'impressive': 7368,\n",
              " 'wish': 14677,\n",
              " 'out': 9944,\n",
              " 'atlanta': 2560,\n",
              " 'la': 8122,\n",
              " 'february': 5835,\n",
              " '24th': 618,\n",
              " '99': 1690,\n",
              " 'lga': 8303,\n",
              " 'dal': 4528,\n",
              " 'trying': 13550,\n",
              " 'since': 12108,\n",
              " 'page': 10056,\n",
              " 'never': 9415,\n",
              " 'loads': 8432,\n",
              " 'thx': 13236,\n",
              " 'spotify': 12454,\n",
              " 'stat': 12533,\n",
              " 'guiltypleasures': 6738,\n",
              " 'lady': 8136,\n",
              " 'gaga': 6394,\n",
              " 'she': 11988,\n",
              " 'carrie': 3554,\n",
              " 'marketing': 8745,\n",
              " 'song': 12332,\n",
              " 'f2lfulcbq7': 5715,\n",
              " 'let': 8280,\n",
              " 'us': 14049,\n",
              " 'meh': 8879,\n",
              " 'adding': 1966,\n",
              " '2014': 495,\n",
              " 'shown': 12054,\n",
              " 'sorry': 12345,\n",
              " 'mary': 8766,\n",
              " 'martin': 8761,\n",
              " 'had': 6773,\n",
              " 'beat': 2883,\n",
              " 'classics': 3859,\n",
              " '0736': 38,\n",
              " 'dca': 4589,\n",
              " '10pm': 107,\n",
              " 'tried': 13506,\n",
              " 'check': 3732,\n",
              " 'heyyyy': 6975,\n",
              " 'guyyyys': 6751,\n",
              " 'through': 13221,\n",
              " 'someone': 12323,\n",
              " 'hold': 7051,\n",
              " '40': 964,\n",
              " '50': 1178,\n",
              " 'earlier': 5239,\n",
              " 'tonight': 13361,\n",
              " '11': 114,\n",
              " '50pm': 1201,\n",
              " 'congrats': 4149,\n",
              " 'winning': 14658,\n",
              " 'travelzoo': 13479,\n",
              " 'award': 2664,\n",
              " 'deals': 4603,\n",
              " 'kj1iljaebv': 8055,\n",
              " 'everything': 5576,\n",
              " 'fine': 5931,\n",
              " 'until': 13995,\n",
              " 'lost': 8509,\n",
              " 'bag': 2767,\n",
              " 'change': 3679,\n",
              " 'reservation': 11311,\n",
              " 'credit': 4375,\n",
              " 'card': 3530,\n",
              " 'modify': 9099,\n",
              " 'waive': 14382,\n",
              " 'fee': 5846,\n",
              " 'or': 9882,\n",
              " 'customer': 4464,\n",
              " 'team': 13006,\n",
              " 'if': 7293,\n",
              " 'tracking': 13420,\n",
              " 'booked': 3146,\n",
              " 'baggage': 2770,\n",
              " 'loft': 8454,\n",
              " 'needs': 9381,\n",
              " 'step': 12565,\n",
              " 'its': 7703,\n",
              " 'game': 6405,\n",
              " 'dirty': 4870,\n",
              " 'tables': 12921,\n",
              " 'floors': 6063,\n",
              " 'hy0vrfhjht': 7237,\n",
              " 'worried': 14753,\n",
              " 'ride': 11429,\n",
              " 'plane': 10378,\n",
              " 'crew': 4379,\n",
              " 'airlines': 2104,\n",
              " 'should': 12036,\n",
              " 'like': 8341,\n",
              " 'yall': 14896,\n",
              " 'sat': 11696,\n",
              " 'morning': 9143,\n",
              " 'correct': 4270,\n",
              " 'bill': 3015,\n",
              " 'watch': 14444,\n",
              " 'some': 12320,\n",
              " 'student': 12687,\n",
              " 'films': 5914,\n",
              " '35': 846,\n",
              " '000': 1,\n",
              " 'feet': 5858,\n",
              " 'cmfat35000feet': 3927,\n",
              " 'kek5pdmgif': 8004,\n",
              " 'different': 4833,\n",
              " 'rate': 10971,\n",
              " 'policy': 10463,\n",
              " 'media': 8858,\n",
              " 'bags': 2776,\n",
              " 'going': 6568,\n",
              " 'anyway': 2366,\n",
              " 'speak': 12400,\n",
              " 'human': 7201,\n",
              " 'asap': 2494,\n",
              " 'thank': 13095,\n",
              " 'doom': 5067,\n",
              " 'supp': 12778,\n",
              " 'biz': 3043,\n",
              " 'traveler': 13463,\n",
              " 'southwestair': 12372,\n",
              " 'jetblue': 7804,\n",
              " 'neverflyvirginforbusiness': 9423,\n",
              " 'then': 13144,\n",
              " 'once': 9819,\n",
              " 'member': 8892,\n",
              " 'inflight': 7482,\n",
              " 'im': 7335,\n",
              " '100': 59,\n",
              " 'interested': 7578,\n",
              " 'flightattendant': 6024,\n",
              " 'dreampath': 5131,\n",
              " 'whenever': 14571,\n",
              " 'begrudgingly': 2918,\n",
              " 'delayed': 4666,\n",
              " 'late': 8181,\n",
              " 'interesting': 7579,\n",
              " 'cancelled': 3495,\n",
              " 'four': 6206,\n",
              " 'planned': 10384,\n",
              " 'disappointing': 4882,\n",
              " 'which': 14583,\n",
              " 'shared': 11979,\n",
              " 'business': 3378,\n",
              " 'meet': 8870,\n",
              " 'neverflyvirgin': 9422,\n",
              " 'trouble': 13521,\n",
              " 'wife': 14624,\n",
              " 'px8hqoks3r': 10826,\n",
              " 'bring': 3263,\n",
              " 'using': 14115,\n",
              " 'code': 3959,\n",
              " 'random': 10954,\n",
              " 'distribution': 4970,\n",
              " 'avatars': 2641,\n",
              " 'bet': 2973,\n",
              " 'kitty': 8054,\n",
              " 'has': 6852,\n",
              " 'disproportionate': 4946,\n",
              " 'share': 11978,\n",
              " 'aptzpurop4': 2436,\n",
              " 'life': 8324,\n",
              " 'happens': 6823,\n",
              " 'am': 2215,\n",
              " 'jperhi': 7901,\n",
              " 'home': 7070,\n",
              " 'back': 2732,\n",
              " 'rnp': 11483,\n",
              " 'yeah': 14909,\n",
              " 'points': 10454,\n",
              " 'most': 9151,\n",
              " 'recent': 11052,\n",
              " 'tv': 13592,\n",
              " 'video': 14251,\n",
              " 'disappointed': 4881,\n",
              " 'flightled': 6037,\n",
              " 'went': 14522,\n",
              " 'jfk': 7832,\n",
              " 'saturday': 11705,\n",
              " 'landed': 8150,\n",
              " 'here': 6965,\n",
              " 'friendly': 6269,\n",
              " 'nomorevirgin': 9554,\n",
              " '345': 837,\n",
              " 'redirected': 11099,\n",
              " 'btw': 3316,\n",
              " 'isn': 7672,\n",
              " 'user': 14110,\n",
              " 'redesign': 11096,\n",
              " 'both': 3179,\n",
              " 'desktop': 4759,\n",
              " 'mobile': 9091,\n",
              " 'avyqdmpi1y': 2659,\n",
              " 'scanned': 11744,\n",
              " 'passengers': 10132,\n",
              " 'leave': 8245,\n",
              " 'told': 13343,\n",
              " 'remove': 11223,\n",
              " 'their': 13137,\n",
              " 'class': 3855,\n",
              " 'bin': 3021,\n",
              " 'uncomfortable': 13855,\n",
              " 'find': 5925,\n",
              " 'who': 14597,\n",
              " 'anyone': 2360,\n",
              " 'doing': 5037,\n",
              " 'useless': 14109,\n",
              " 'boy': 3198,\n",
              " 'prince': 10644,\n",
              " 'ressie': 11341,\n",
              " 'sf': 11948,\n",
              " 'thursday': 13234,\n",
              " 'gsb2j3c4gm': 6714,\n",
              " 'appointments': 2412,\n",
              " 'sfo2lax': 11951,\n",
              " 'music': 9230,\n",
              " 'marcnocwzn': 8729,\n",
              " 'direct': 4858,\n",
              " 'unexpected': 13892,\n",
              " 'layover': 8211,\n",
              " 'vegas': 14198,\n",
              " 'fuel': 6327,\n",
              " 'peeps': 10208,\n",
              " 'bought': 3186,\n",
              " 'sneaky': 12270,\n",
              " 'apt': 2435,\n",
              " 'people': 10222,\n",
              " 'same': 11665,\n",
              " 'exp': 5645,\n",
              " 'raeann': 10934,\n",
              " 'customerservice': 4469,\n",
              " 'line': 8361,\n",
              " 'hung': 7212,\n",
              " 'sarcasm': 11690,\n",
              " 'tripping': 13514,\n",
              " 'plain': 10373,\n",
              " 'text': 13076,\n",
              " 'version': 14225,\n",
              " 'reluctant': 11200,\n",
              " 'enter': 5447,\n",
              " 'info': 7484,\n",
              " 'scheduled': 11763,\n",
              " '714': 1462,\n",
              " 'changed': 3680,\n",
              " 'weather': 14477,\n",
              " 'looks': 8493,\n",
              " 'getaway': 6470,\n",
              " '59': 1291,\n",
              " 'lots': 8519,\n",
              " 'cities': 3833,\n",
              " 'tzzjhuibch': 13637,\n",
              " 'cheapflights': 3725,\n",
              " 'farecompare': 5790,\n",
              " 'rpdbpx3wnd': 11557,\n",
              " 'b2xi4yg5t8': 2705,\n",
              " 'qdljhsloi5': 10850,\n",
              " 'come': 4005,\n",
              " 'phl': 10294,\n",
              " 'horrible': 7124,\n",
              " 'pleasecomeback': 10411,\n",
              " 'glxfwp6nqh': 6549,\n",
              " 'concerned': 4113,\n",
              " 'tech': 13014,\n",
              " 'flown': 6068,\n",
              " 'easy': 5261,\n",
              " 'helpful': 6942,\n",
              " 'representatives': 11271,\n",
              " 'comfortable': 4015,\n",
              " 'rep': 11240,\n",
              " 'kicked': 8023,\n",
              " 'butt': 3389,\n",
              " 'naelah': 9302,\n",
              " 'represents': 11273,\n",
              " 'beautifully': 2891,\n",
              " 'beautiful': 2889,\n",
              " 'front': 6284,\n",
              " 'design': 4748,\n",
              " 'right': 11438,\n",
              " 'secure': 11847,\n",
              " 'running': 11597,\n",
              " 'gate': 6420,\n",
              " 'e9': 5233,\n",
              " 'waited': 14372,\n",
              " 'kept': 8008,\n",
              " 'browser': 3294,\n",
              " '2015': 496,\n",
              " 'reputation': 11278,\n",
              " 'built': 3338,\n",
              " 'doesn': 5031,\n",
              " 'compatible': 4066,\n",
              " 'totally': 13392,\n",
              " 'folks': 6140,\n",
              " 'problem': 10671,\n",
              " 'min': 8996,\n",
              " 'delay': 4665,\n",
              " 'connecting': 4159,\n",
              " 'seems': 11861,\n",
              " 'long': 8481,\n",
              " 'va370': 14146,\n",
              " 'outstanding': 9967,\n",
              " 'san': 11670,\n",
              " 'francisco': 6220,\n",
              " 'absolute': 1866,\n",
              " 'delighted': 4680,\n",
              " 'provide': 10753,\n",
              " 'complimentary': 4098,\n",
              " 'upgrades': 14022,\n",
              " 'thats': 13117,\n",
              " '120': 155,\n",
              " 'wait': 14371,\n",
              " 'calling': 3474,\n",
              " 'intern': 7585,\n",
              " 'completely': 4092,\n",
              " 'month': 9128,\n",
              " 'nonstop': 9566,\n",
              " 'depart': 4713,\n",
              " 'vabeatsjblue': 14147,\n",
              " '882': 1608,\n",
              " 'failing': 5749,\n",
              " 'customers': 4468,\n",
              " 'because': 2896,\n",
              " 'process': 10682,\n",
              " 'does': 5030,\n",
              " 'link': 8368,\n",
              " 'tsa': 13556,\n",
              " 'pre': 10556,\n",
              " 'fidifamilies': 5895,\n",
              " 'terrible': 13060,\n",
              " 'hotel': 7142,\n",
              " 'hotline': 7148,\n",
              " '276': 657,\n",
              " 'cabo': 3446,\n",
              " 'lucas': 8574,\n",
              " 'chrysichrysic': 3808,\n",
              " 'assistance': 2529,\n",
              " 'yesterday': 14926,\n",
              " 'our': 9938,\n",
              " 'give': 6520,\n",
              " 'shame': 11968,\n",
              " 'likingyoulessandless': 8348,\n",
              " 'register': 11153,\n",
              " 'dog': 5034,\n",
              " 'dulles': 5186,\n",
              " 'queue': 10888,\n",
              " 'longer': 8485,\n",
              " 'pls': 10432,\n",
              " 'advise': 2005,\n",
              " 'oscars': 9918,\n",
              " 'redcarpet': 11090,\n",
              " 'reallytallchris': 11021,\n",
              " 'dropped': 5151,\n",
              " 'track': 13418,\n",
              " 'zv2pt6trk9': 15047,\n",
              " 'always': 2209,\n",
              " 'xoxo': 14869,\n",
              " 'buy': 3393,\n",
              " 'them': 13139,\n",
              " 'creates': 4370,\n",
              " 'anxiety': 2353,\n",
              " 'frustrated': 6296,\n",
              " 'paying': 10178,\n",
              " 'extra': 5697,\n",
              " 'bucks': 3322,\n",
              " 'luggage': 8582,\n",
              " 'might': 8970,\n",
              " 'afford': 2026,\n",
              " 'hiring': 7024,\n",
              " 'hand': 6791,\n",
              " 'lame': 8146,\n",
              " 'world': 14748,\n",
              " 'irmafromdallas': 7648,\n",
              " 'takes': 12948,\n",
              " 'cake': 3458,\n",
              " 'flt': 6069,\n",
              " 'sooner': 12337,\n",
              " 'midnight': 8965,\n",
              " 'monday': 9111,\n",
              " 'cant': 3508,\n",
              " 'imagine': 7337,\n",
              " 'as': 2493,\n",
              " 'web': 14481,\n",
              " 'indicates': 7452,\n",
              " 'dude': 5179,\n",
              " 'staff': 12495,\n",
              " 'super': 12767,\n",
              " 'ran': 10953,\n",
              " 'waltdisneyworld': 14406,\n",
              " 'princesshalf': 10647,\n",
              " 'spoiled': 12441,\n",
              " 'comfort': 4014,\n",
              " 'paid': 10059,\n",
              " 'premium': 10593,\n",
              " 'across': 1937,\n",
              " 'offer': 9763,\n",
              " 'sad': 11629,\n",
              " 'face': 5735,\n",
              " 'question': 10886,\n",
              " 'possible': 10508,\n",
              " 'infant': 7472,\n",
              " 'under': 13866,\n",
              " 'giving': 6525,\n",
              " 'him': 7009,\n",
              " 'welcome': 14508,\n",
              " 'jessicajaymes': 7800,\n",
              " 'dc': 4586,\n",
              " 'sunset': 12763,\n",
              " 'globe': 6545,\n",
              " 'backtowinter': 2742,\n",
              " 'work': 14734,\n",
              " 'refreshed': 11126,\n",
              " 'vx9vbctdlf': 14351,\n",
              " 'understand': 13872,\n",
              " 'dm': 5003,\n",
              " 'answer': 2336,\n",
              " 'damaged': 4536,\n",
              " 'destroyed': 4773,\n",
              " 'special': 12404,\n",
              " 'alone': 2189,\n",
              " 'kids': 8029,\n",
              " 'priority': 10656,\n",
              " 'boarding': 3118,\n",
              " 'checking': 3736,\n",
              " 'tickets': 13247,\n",
              " 'purchased': 10805,\n",
              " 'happy': 6827,\n",
              " 'coming': 4020,\n",
              " '713': 1461,\n",
              " 'field': 5896,\n",
              " 'definitely': 4650,\n",
              " '23': 576,\n",
              " '0769': 39,\n",
              " 'dfw': 4800,\n",
              " 'drivers': 5145,\n",
              " 'license': 8318,\n",
              " 'expired': 5672,\n",
              " 'friday': 6265,\n",
              " 'keeps': 8001,\n",
              " 'error': 5504,\n",
              " 'contact': 4196,\n",
              " 'minute': 9013,\n",
              " 'reschedule': 11296,\n",
              " 'button': 3390,\n",
              " 'greyed': 6677,\n",
              " 'rang': 10957,\n",
              " 'vendor': 14207,\n",
              " 'fix': 5964,\n",
              " 'got': 6610,\n",
              " 'checked': 3733,\n",
              " 'email': 5355,\n",
              " 'tomorrow': 13352,\n",
              " 'unacceptable': 13829,\n",
              " 'into': 7605,\n",
              " 'flighted': 6029,\n",
              " 'stuck': 12681,\n",
              " 'pairings': 10070,\n",
              " 'include': 7409,\n",
              " 'wine': 14651,\n",
              " 'white': 14595,\n",
              " 'offered': 9764,\n",
              " 'redwineisbetter': 11107,\n",
              " 'wonked': 14722,\n",
              " 'look': 8488,\n",
              " 'browsers': 3295,\n",
              " 'css': 4425,\n",
              " '8qsqmm7kf2': 1642,\n",
              " 'agent': 2047,\n",
              " 'designated': 4749,\n",
              " 'silver': 12097,\n",
              " 'dulles_airport': 5187,\n",
              " 'closed': 3896,\n",
              " 'assist': 2528,\n",
              " 'pasengers': 10124,\n",
              " 'plans': 10387,\n",
              " 'austin': 2618,\n",
              " 'route': 11543,\n",
              " 'topnews': 13376,\n",
              " 'arab': 2444,\n",
              " 'emirates': 5380,\n",
              " 'aqzwecokk2': 2441,\n",
              " 'normal': 9589,\n",
              " 'receive': 11048,\n",
              " 'reply': 11259,\n",
              " 'central': 3639,\n",
              " 'baggageissues': 2773,\n",
              " 'smh': 12236,\n",
              " 'logan': 8457,\n",
              " 'airport': 2110,\n",
              " 'waiting': 14374,\n",
              " 'checkin': 3735,\n",
              " '9am': 1696,\n",
              " 'desk': 4757,\n",
              " 'open': 9853,\n",
              " 'jump': 7922,\n",
              " 'market': 8744,\n",
              " 'dallas_news': 4531,\n",
              " 'ewwgi97gdx': 5593,\n",
              " 'beats': 2886,\n",
              " 'eps': 5480,\n",
              " 'views': 14255,\n",
              " 'luv': 8595,\n",
              " 'investor': 7620,\n",
              " 'daily': 4525,\n",
              " 'flwmgdahxu': 6085,\n",
              " 'lister': 8384,\n",
              " 'show': 12049,\n",
              " '1230': 171,\n",
              " '130': 199,\n",
              " 'begin': 2915,\n",
              " 'april': 2432,\n",
              " '88': 1606,\n",
              " 'ketr': 8010,\n",
              " 'ssuvwwkyhh': 12488,\n",
              " 'fuck': 6317,\n",
              " 'united': 13914,\n",
              " 'fl1289': 5974,\n",
              " 'clincher': 3887,\n",
              " 'follow': 6141,\n",
              " 'many': 8721,\n",
              " 'apologies': 2378,\n",
              " 'worse': 14758,\n",
              " 'respond': 11331,\n",
              " 'cudtomers': 4436,\n",
              " 'spend': 12422,\n",
              " 'money': 9113,\n",
              " 'stranded': 12634,\n",
              " 'landing': 8151,\n",
              " 'reimburse': 11167,\n",
              " 'ttinac11': 13564,\n",
              " 'sjc': 12143,\n",
              " 'choice': 3791,\n",
              " 'southwest': 12371,\n",
              " '14': 226,\n",
              " 'days': 4581,\n",
              " 'confirmation': 4137,\n",
              " 'inquired': 7517,\n",
              " 'claim': 3843,\n",
              " 'notification': 9628,\n",
              " 'rebook': 11037,\n",
              " 'met': 8929,\n",
              " 'restr': 11348,\n",
              " 'rhkamx9vf5': 11414,\n",
              " 'pyalebgkjt': 10829,\n",
              " 'gold': 6573,\n",
              " 'cmh': 3928,\n",
              " 'lot': 8518,\n",
              " 'being': 2927,\n",
              " 'thrown': 13227,\n",
              " 'see': 11853,\n",
              " 'worst': 14759,\n",
              " 'stuff': 12690,\n",
              " 'wrong': 14803,\n",
              " 'issue': 7677,\n",
              " 'finding': 5928,\n",
              " 'missing': 9050,\n",
              " 'item': 7688,\n",
              " 'headed': 6893,\n",
              " 'americanairlines': 2239,\n",
              " 'h952rdktqy': 6766,\n",
              " 'asarco_es_ar': 2495,\n",
              " 'lose': 8503,\n",
              " 'suck': 12721,\n",
              " 'persisting': 10249,\n",
              " 'rec': 11043,\n",
              " 'flightlation': 6035,\n",
              " 'notice': 9625,\n",
              " 'ps': 10762,\n",
              " 'driving': 5147,\n",
              " 'mon': 9110,\n",
              " 'boston': 3173,\n",
              " 'stink': 12595,\n",
              " 'psp': 10768,\n",
              " 'ability': 1857,\n",
              " 'expected': 5652,\n",
              " 'guy': 6748,\n",
              " 'dancing': 4548,\n",
              " 'high': 6993,\n",
              " 'school': 11769,\n",
              " 'dance': 4547,\n",
              " 'revue': 11408,\n",
              " 'quick': 10892,\n",
              " 'apparently': 2391,\n",
              " 'faster': 5803,\n",
              " 'sitting': 12132,\n",
              " 'nervous': 9406,\n",
              " 'sent': 11898,\n",
              " 'picture': 10321,\n",
              " 'wing': 14652,\n",
              " '5b2agfd8c4': 1301,\n",
              " 'keep': 7990,\n",
              " 'goodness': 6596,\n",
              " ...}"
            ]
          },
          "metadata": {},
          "execution_count": 13
        }
      ]
    },
    {
      "cell_type": "code",
      "source": [
        "#Hay 14640 documentos con 15051 caracteristicas\n",
        "X_dtm.shape"
      ],
      "metadata": {
        "colab": {
          "base_uri": "https://localhost:8080/"
        },
        "id": "g3agncNItwDc",
        "outputId": "4cfe361f-59c0-44de-ded9-ea74e79c2efe"
      },
      "execution_count": null,
      "outputs": [
        {
          "output_type": "execute_result",
          "data": {
            "text/plain": [
              "(14640, 15051)"
            ]
          },
          "metadata": {},
          "execution_count": 14
        }
      ]
    },
    {
      "cell_type": "code",
      "source": [
        "print(list(vect.vocabulary_.keys())[-150:-100])"
      ],
      "metadata": {
        "colab": {
          "base_uri": "https://localhost:8080/"
        },
        "id": "-lE9qCX6uCN9",
        "outputId": "50fa7320-e0c7-4faf-c66f-dab52ff1fd09"
      },
      "execution_count": null,
      "outputs": [
        {
          "output_type": "stream",
          "name": "stdout",
          "text": [
            "['us874', 'inventory', '3a', '8c', 'americanforlife', 'fiscal', '2440', 'aa2416', 'guc', '7403607771', 'gvn', 'nxqijcojnj', 'tcunningham10', 'jacquelyn', '2251', 'tomo', '245', 'stucked', 'aadelay', '2954', 'junction', 'amazingflightcrew', 'aftr', 'bng', 'hstg', 'refsd', 'med', 'fnd', 'cnceld', 'downloaded', 'cop', 'fcuk', 'vacancies', '343', 'yokkhhqcmp', 'karabuxthomps', 'renewed', 'pe', 'thnkx', 'bt', 'sux', 'otty5rymzd', '2312', 'worlds', 'macario2', '8004337300', 'golfwithwoody', 'woody', 'aa2227', 'miatoiah']\n"
          ]
        }
      ]
    },
    {
      "cell_type": "code",
      "source": [
        "# Se convierte la matriz dispersa X_dtm en densa, luego se accede al primer documento en la colección de documentos representados para encontrar el índice del término que tiene la frecuencia más alta en ese primer documento.\n",
        "X_dtm.todense()[0].argmax()"
      ],
      "metadata": {
        "colab": {
          "base_uri": "https://localhost:8080/"
        },
        "id": "DbHSHXhPuFoM",
        "outputId": "dc4eeb1a-ac6e-4be6-c0b6-d2b36eb4caae"
      },
      "execution_count": null,
      "outputs": [
        {
          "output_type": "execute_result",
          "data": {
            "text/plain": [
              "4804"
            ]
          },
          "metadata": {},
          "execution_count": 16
        }
      ]
    },
    {
      "cell_type": "code",
      "source": [
        "#RandomForest: Se aplica el metodo de clasificación de bosque aleatorio y se hace una validación cruzada partiendo la base en 5 partes\n",
        "rf=RandomForestClassifier()\n",
        "pd.Series(cross_val_score(rf, X_dtm, y, cv=5)).describe()"
      ],
      "metadata": {
        "colab": {
          "base_uri": "https://localhost:8080/"
        },
        "id": "q11gZVeku2Yr",
        "outputId": "59227a17-a37d-4d2b-b3f7-32145fae50d6"
      },
      "execution_count": null,
      "outputs": [
        {
          "output_type": "execute_result",
          "data": {
            "text/plain": [
              "count    5.000000\n",
              "mean     0.726913\n",
              "std      0.026016\n",
              "min      0.685792\n",
              "25%      0.720628\n",
              "50%      0.732923\n",
              "75%      0.741120\n",
              "max      0.754098\n",
              "dtype: float64"
            ]
          },
          "metadata": {},
          "execution_count": 17
        }
      ]
    },
    {
      "cell_type": "code",
      "source": [
        "# Se define una función que acepta un vectorizador y calcula el accuracy\n",
        "def tokenize_test(vect):\n",
        "    X_dtm = vect.fit_transform(X)\n",
        "    print('Features: ', X_dtm.shape[1])\n",
        "    rf = RandomForestClassifier()\n",
        "    print(pd.Series(cross_val_score(rf, X_dtm, y, cv=5)).describe())"
      ],
      "metadata": {
        "id": "_RwcJ4TSxOnE"
      },
      "execution_count": null,
      "outputs": []
    },
    {
      "cell_type": "code",
      "source": [
        "print(pd.Series(cross_val_score(rf, X_dtm, y, cv=5)).describe())"
      ],
      "metadata": {
        "colab": {
          "base_uri": "https://localhost:8080/"
        },
        "id": "aE0163PTxmdC",
        "outputId": "50eaecc8-ea32-4a95-df05-7d6d44199254"
      },
      "execution_count": null,
      "outputs": [
        {
          "output_type": "stream",
          "name": "stdout",
          "text": [
            "count    5.000000\n",
            "mean     0.728005\n",
            "std      0.025849\n",
            "min      0.688183\n",
            "25%      0.717213\n",
            "50%      0.736339\n",
            "75%      0.747268\n",
            "max      0.751025\n",
            "dtype: float64\n"
          ]
        }
      ]
    },
    {
      "cell_type": "markdown",
      "source": [
        "Este modelo tiene un rendimiento para clasificar el sentimiento de los tweets en un 72,8%"
      ],
      "metadata": {
        "id": "hVTIlkbQtgrq"
      }
    },
    {
      "cell_type": "markdown",
      "metadata": {
        "id": "VGKjeUf6MIOQ"
      },
      "source": [
        "# Exercise 1.2\n",
        "\n",
        "Se remueven stopwords, luego se predice el sentimiento usando CountVectorizer.\n",
        "\n",
        "use Random Forest classifier"
      ]
    },
    {
      "cell_type": "code",
      "execution_count": null,
      "metadata": {
        "id": "CEfmnF_dMIOQ",
        "colab": {
          "base_uri": "https://localhost:8080/"
        },
        "outputId": "15554ee2-b276-409f-b729-4417936924be"
      },
      "outputs": [
        {
          "output_type": "stream",
          "name": "stdout",
          "text": [
            "Features:  14770\n",
            "count    5.000000\n",
            "mean     0.699317\n",
            "std      0.049052\n",
            "min      0.627732\n",
            "25%      0.669399\n",
            "50%      0.725751\n",
            "75%      0.730191\n",
            "max      0.743511\n",
            "dtype: float64\n"
          ]
        }
      ],
      "source": [
        "def tokenize_test(vect):\n",
        "    X_dtm = vect.fit_transform(X)\n",
        "    print('Features: ', X_dtm.shape[1])\n",
        "\n",
        "    rf = RandomForestClassifier()\n",
        "    scores = cross_val_score(rf, X_dtm, y, cv=5)\n",
        "    print(pd.Series(scores).describe())\n",
        "\n",
        "\n",
        "vect = CountVectorizer(stop_words='english')\n",
        "tokenize_test(vect)"
      ]
    },
    {
      "cell_type": "markdown",
      "source": [
        "Usando el vectorizador disminuye un 3% de rendimiento en la clasificación del modelo"
      ],
      "metadata": {
        "id": "cFoZCLzzRlZm"
      }
    },
    {
      "cell_type": "markdown",
      "metadata": {
        "id": "WXsegR18MIOQ"
      },
      "source": [
        "# Exercise 1.3\n",
        "\n",
        "Increase n_grams size (with and without stopwords),  then predict the sentiment using CountVectorizer\n",
        "\n",
        "use Random Forest classifier"
      ]
    },
    {
      "cell_type": "code",
      "execution_count": null,
      "metadata": {
        "id": "c7VVKnTUMIOQ",
        "colab": {
          "base_uri": "https://localhost:8080/"
        },
        "outputId": "7dd3fb11-431d-492b-a465-eb23ed683c62"
      },
      "outputs": [
        {
          "output_type": "stream",
          "name": "stdout",
          "text": [
            "Features:  1000\n",
            "count    5.000000\n",
            "mean     0.704235\n",
            "std      0.065587\n",
            "min      0.592213\n",
            "25%      0.700820\n",
            "50%      0.733948\n",
            "75%      0.740437\n",
            "max      0.753757\n",
            "dtype: float64\n"
          ]
        }
      ],
      "source": [
        "def tokenize_test(vect):\n",
        "    X_dtm = vect.fit_transform(X)\n",
        "    print('Features: ', X_dtm.shape[1])\n",
        "\n",
        "    rf = RandomForestClassifier()\n",
        "    scores = cross_val_score(rf, X_dtm, y, cv=5)\n",
        "    print(pd.Series(scores).describe())\n",
        "\n",
        "vect = CountVectorizer(ngram_range=(1, 2), max_features=1000) #Se vectoriza tomando ngramas de 1 a 2 palabras y se maximiza a 1000 caracteristicas\n",
        "tokenize_test(vect)"
      ]
    },
    {
      "cell_type": "markdown",
      "source": [
        "Sigue siendo un mejor modelo el random forest sin vectorización ya que con esta forma de vectorizar es 2% menos efectivo en predecir las clases de sentimientos"
      ],
      "metadata": {
        "id": "uZ_Z3_45SDBx"
      }
    },
    {
      "cell_type": "code",
      "source": [
        "def tokenize_test(vect):\n",
        "    X_dtm = vect.fit_transform(X)\n",
        "    print('Features: ', X_dtm.shape[1])\n",
        "\n",
        "    rf = RandomForestClassifier()\n",
        "    scores = cross_val_score(rf, X_dtm, y, cv=5)\n",
        "    print(pd.Series(scores).describe())\n",
        "\n",
        "vect = CountVectorizer(stop_words='english')\n",
        "vect = CountVectorizer(ngram_range=(1, 2), max_features=1000)\n",
        "tokenize_test(vect)"
      ],
      "metadata": {
        "colab": {
          "base_uri": "https://localhost:8080/"
        },
        "id": "3BTBFC-uXDa5",
        "outputId": "0896627b-1955-4514-f06d-14fa240598d6"
      },
      "execution_count": null,
      "outputs": [
        {
          "output_type": "stream",
          "name": "stdout",
          "text": [
            "Features:  1000\n",
            "count    5.000000\n",
            "mean     0.703415\n",
            "std      0.072061\n",
            "min      0.579235\n",
            "25%      0.702527\n",
            "50%      0.737363\n",
            "75%      0.744194\n",
            "max      0.753757\n",
            "dtype: float64\n"
          ]
        }
      ]
    },
    {
      "cell_type": "code",
      "source": [
        "print(vect)"
      ],
      "metadata": {
        "colab": {
          "base_uri": "https://localhost:8080/"
        },
        "id": "ek6z8cEc4sp3",
        "outputId": "3f9f9226-19b3-487c-ff2f-407a79ad2a76"
      },
      "execution_count": null,
      "outputs": [
        {
          "output_type": "stream",
          "name": "stdout",
          "text": [
            "CountVectorizer(max_features=1000, ngram_range=(1, 2))\n"
          ]
        }
      ]
    },
    {
      "cell_type": "markdown",
      "metadata": {
        "id": "fs25hLFsMIOR"
      },
      "source": [
        "# Exercise 1.4\n",
        "\n",
        "Predict the sentiment using TfidfVectorizer.\n",
        "\n",
        "use Random Forest classifier"
      ]
    },
    {
      "cell_type": "code",
      "source": [
        "\n",
        "# Vectorización utilizando TfidfVectorizer\n",
        "vect = TfidfVectorizer()\n",
        "X_dtm = vect.fit_transform(X)"
      ],
      "metadata": {
        "id": "kBrLVlUxWJgR"
      },
      "execution_count": null,
      "outputs": []
    },
    {
      "cell_type": "code",
      "source": [
        "# Definir una función que acepta un vectorizador y calcula la precisión\n",
        "def tokenize_test(vect):\n",
        "    X_dtm = vect.fit_transform(X)\n",
        "    print('Features: ', X_dtm.shape[1])\n",
        "    rf = RandomForestClassifier()\n",
        "\n",
        "    # Imprimir estadísticas de validación cruzada\n",
        "    print(pd.Series(cross_val_score(rf, X_dtm, y, cv=5)).describe())"
      ],
      "metadata": {
        "id": "nMuXCkmZhgh2"
      },
      "execution_count": null,
      "outputs": []
    },
    {
      "cell_type": "code",
      "source": [
        "# Llamar a la función con TfidfVectorizer\n",
        "tokenize_test(vect)"
      ],
      "metadata": {
        "colab": {
          "base_uri": "https://localhost:8080/"
        },
        "id": "lDft9Q9DhsDA",
        "outputId": "9fccf33e-74ec-4a4f-94f1-eabd2a5747b8"
      },
      "execution_count": null,
      "outputs": [
        {
          "output_type": "stream",
          "name": "stdout",
          "text": [
            "Features:  15051\n",
            "count    5.000000\n",
            "mean     0.717213\n",
            "std      0.021676\n",
            "min      0.685451\n",
            "25%      0.711407\n",
            "50%      0.714139\n",
            "75%      0.736680\n",
            "max      0.738388\n",
            "dtype: float64\n"
          ]
        }
      ]
    },
    {
      "cell_type": "markdown",
      "source": [
        "El random forest inicial sigue siendo mejor modelo ya que mantiene un AUC superior"
      ],
      "metadata": {
        "id": "bsL1GIozSXpa"
      }
    },
    {
      "cell_type": "code",
      "source": [
        "vect2= TfidfVectorizer(stop_words='english')"
      ],
      "metadata": {
        "id": "E9qpCxwVjZke"
      },
      "execution_count": null,
      "outputs": []
    },
    {
      "cell_type": "code",
      "source": [
        "# Llamar a la función con TfidfVectorizer\n",
        "tokenize_test(vect2)"
      ],
      "metadata": {
        "colab": {
          "base_uri": "https://localhost:8080/"
        },
        "id": "n2aQzOrajhJM",
        "outputId": "a2ca0fa1-374c-4f7e-eb36-fae22e9417e5"
      },
      "execution_count": null,
      "outputs": [
        {
          "output_type": "stream",
          "name": "stdout",
          "text": [
            "Features:  14770\n",
            "count    5.000000\n",
            "mean     0.698156\n",
            "std      0.046540\n",
            "min      0.626708\n",
            "25%      0.676571\n",
            "50%      0.717555\n",
            "75%      0.733265\n",
            "max      0.736680\n",
            "dtype: float64\n"
          ]
        }
      ]
    },
    {
      "cell_type": "markdown",
      "source": [
        "Integrantes:\n",
        "\n",
        "*   Rosemary Ríos Pulido\n",
        "*   John Sebastian Martinez Cipagauta\n",
        "*   Carlos Felipe Mora Garzón\n",
        "*   Ian Nicolas Rincon Tavera\n",
        "*   Andres Parra\n"
      ],
      "metadata": {
        "id": "jrLvKXNJYjQQ"
      }
    }
  ],
  "metadata": {
    "kernelspec": {
      "display_name": "Python 3",
      "language": "python",
      "name": "python3"
    },
    "language_info": {
      "codemirror_mode": {
        "name": "ipython",
        "version": 3
      },
      "file_extension": ".py",
      "mimetype": "text/x-python",
      "name": "python",
      "nbconvert_exporter": "python",
      "pygments_lexer": "ipython3",
      "version": "3.7.4"
    },
    "colab": {
      "provenance": []
    }
  },
  "nbformat": 4,
  "nbformat_minor": 0
}